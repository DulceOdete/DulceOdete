{
  "nbformat": 4,
  "nbformat_minor": 0,
  "metadata": {
    "colab": {
      "name": "Shasa.ipynb",
      "provenance": [],
      "collapsed_sections": [
        "wC3QsERxOB8I",
        "DlcrSmUsAw1W"
      ],
      "authorship_tag": "ABX9TyMRoFW3+q7B/i7F7K/PVpzx",
      "include_colab_link": true
    },
    "kernelspec": {
      "name": "python3",
      "display_name": "Python 3"
    },
    "language_info": {
      "name": "python"
    }
  },
  "cells": [
    {
      "cell_type": "markdown",
      "metadata": {
        "id": "view-in-github",
        "colab_type": "text"
      },
      "source": [
        "<a href=\"https://colab.research.google.com/github/DulceOdete/DulceOdete/blob/master/Prueba.ipynb\" target=\"_parent\"><img src=\"https://colab.research.google.com/assets/colab-badge.svg\" alt=\"Open In Colab\"/></a>"
      ]
    },
    {
      "cell_type": "markdown",
      "source": [
        "# Carga de datos"
      ],
      "metadata": {
        "id": "HOOh5x4wN7Zv"
      }
    },
    {
      "cell_type": "code",
      "source": [
        "import pandas as pd\n",
        "import math\n",
        "import io\n",
        "\n",
        "date_info = pd.read_csv('date_info.txt')\n",
        "store_info = pd.read_csv('store_info.txt')\n",
        "store_sales = pd.read_csv('store_sales.csv')"
      ],
      "metadata": {
        "id": "nqGSkgqGMbRr"
      },
      "execution_count": 374,
      "outputs": []
    },
    {
      "cell_type": "markdown",
      "source": [
        "# Transformación de datos"
      ],
      "metadata": {
        "id": "wC3QsERxOB8I"
      }
    },
    {
      "cell_type": "markdown",
      "source": [
        "Se requiere modificar la columna \"sales_date\" para facilitar el proceso de análisis, para ello se transforma la columna a cierto tipo y después se eliminan valores innecesarios\n"
      ],
      "metadata": {
        "id": "2nJ2TM81OFDx"
      }
    },
    {
      "cell_type": "code",
      "source": [
        "\n",
        "store_sales['sales_date']= [col.replace(\"/\", \"-\") for col in store_sales['sales_date']]\n"
      ],
      "metadata": {
        "id": "STaypswhMoUB"
      },
      "execution_count": 376,
      "outputs": []
    },
    {
      "cell_type": "code",
      "source": [
        "store_sales['sales_date']= [col.replace(\"#VALUE!\", \"00-00-0000\") for col in store_sales['sales_date']]"
      ],
      "metadata": {
        "id": "2qIjE0NAbjW0"
      },
      "execution_count": 377,
      "outputs": []
    },
    {
      "cell_type": "code",
      "source": [
        "aeliminar=[]\n",
        "for i in range(len(store_sales)):\n",
        "  if store_sales['sales_date'][i] == \"00-00-0000\":\n",
        "    store_sales=store_sales.drop([i],axis=0)"
      ],
      "metadata": {
        "id": "PvDYoEdiK9Me"
      },
      "execution_count": 378,
      "outputs": []
    },
    {
      "cell_type": "code",
      "source": [
        "store_sales.reset_index(inplace=True, drop=False)"
      ],
      "metadata": {
        "id": "IrhmsANEkCro"
      },
      "execution_count": 379,
      "outputs": []
    },
    {
      "cell_type": "code",
      "source": [
        "store_sales.sales_date.value_counts()"
      ],
      "metadata": {
        "colab": {
          "base_uri": "https://localhost:8080/"
        },
        "id": "xUseglRROzLP",
        "outputId": "64ebd48a-587c-45d9-d39a-4062da8064c2"
      },
      "execution_count": 380,
      "outputs": [
        {
          "output_type": "execute_result",
          "data": {
            "text/plain": [
              "25-02-2017    128\n",
              "18-02-2017    124\n",
              "25-03-2017    120\n",
              "04-03-2017    115\n",
              "24-03-2017    110\n",
              "             ... \n",
              "17-05-2016      1\n",
              "04-04-2016      1\n",
              "24-01-2016      1\n",
              "04-01-2016      1\n",
              "31-05-2017      1\n",
              "Name: sales_date, Length: 351, dtype: int64"
            ]
          },
          "metadata": {},
          "execution_count": 380
        }
      ]
    },
    {
      "cell_type": "code",
      "source": [
        "store_sales['sales_date'] = pd.to_datetime(store_sales['sales_date'])\n",
        "\n"
      ],
      "metadata": {
        "id": "u7edoAj8UX52"
      },
      "execution_count": 381,
      "outputs": []
    },
    {
      "cell_type": "markdown",
      "source": [
        "Se obtienen los dias correspondientes a cada semana"
      ],
      "metadata": {
        "id": "c1tp8MazOQkb"
      }
    },
    {
      "cell_type": "code",
      "source": [
        "from datetime import date, timedelta\n",
        "inicio=store_sales['sales_date'][0].date()\n",
        "\n",
        "fecha1 = (inicio + timedelta(7))\n",
        "fecha2 =(fecha1 + timedelta(7))\n",
        "fecha3 = (fecha2 + timedelta(7))\n",
        "fecha4 = (fecha3 + timedelta(7))\n"
      ],
      "metadata": {
        "id": "BcYO3j3VSoVX"
      },
      "execution_count": 382,
      "outputs": []
    },
    {
      "cell_type": "code",
      "source": [
        "#se obtiene el indice para los campos que cumplan cn determinada fecha\n",
        "indx1= indx2 = indx3 = indx4 =0\n",
        "for i in range(len(store_sales)):\n",
        "  if store_sales.sales_date[i] ==fecha1:\n",
        "      indx1 = i \n",
        "\n",
        "for j in range(len(store_sales)):\n",
        "  if fecha2 == store_sales.sales_date[j]:\n",
        "      indx2 = j \n",
        "\n",
        "for k in range(len(store_sales)):\n",
        "  if fecha3 == store_sales.sales_date[k]:\n",
        "      indx3 = k \n",
        "\n",
        "for m in range(len(store_sales)):\n",
        "  if fecha4 == store_sales.sales_date[m]:\n",
        "      indx4 = m\n",
        "  \n",
        "\n"
      ],
      "metadata": {
        "colab": {
          "base_uri": "https://localhost:8080/"
        },
        "id": "Nfwkeosed5BC",
        "outputId": "95b79e9d-71e1-4ad9-cb1d-d7471824bd3b"
      },
      "execution_count": 383,
      "outputs": [
        {
          "output_type": "stream",
          "name": "stderr",
          "text": [
            "/usr/local/lib/python3.7/dist-packages/ipykernel_launcher.py:4: FutureWarning:\n",
            "\n",
            "Comparison of Timestamp with datetime.date is deprecated in order to match the standard library behavior.  In a future version these will be considered non-comparable.Use 'ts == pd.Timestamp(date)' or 'ts.date() == date' instead.\n",
            "\n",
            "/usr/local/lib/python3.7/dist-packages/ipykernel_launcher.py:8: FutureWarning:\n",
            "\n",
            "Comparison of Timestamp with datetime.date is deprecated in order to match the standard library behavior.  In a future version these will be considered non-comparable.Use 'ts == pd.Timestamp(date)' or 'ts.date() == date' instead.\n",
            "\n",
            "/usr/local/lib/python3.7/dist-packages/ipykernel_launcher.py:12: FutureWarning:\n",
            "\n",
            "Comparison of Timestamp with datetime.date is deprecated in order to match the standard library behavior.  In a future version these will be considered non-comparable.Use 'ts == pd.Timestamp(date)' or 'ts.date() == date' instead.\n",
            "\n",
            "/usr/local/lib/python3.7/dist-packages/ipykernel_launcher.py:16: FutureWarning:\n",
            "\n",
            "Comparison of Timestamp with datetime.date is deprecated in order to match the standard library behavior.  In a future version these will be considered non-comparable.Use 'ts == pd.Timestamp(date)' or 'ts.date() == date' instead.\n",
            "\n"
          ]
        }
      ]
    },
    {
      "cell_type": "code",
      "source": [
        "store_sales['sales_date'].min()"
      ],
      "metadata": {
        "colab": {
          "base_uri": "https://localhost:8080/"
        },
        "id": "Jj4b9YYP5B6X",
        "outputId": "8aa3f4fe-656b-4bf5-a2a2-630d0c8f9636"
      },
      "execution_count": 385,
      "outputs": [
        {
          "output_type": "execute_result",
          "data": {
            "text/plain": [
              "Timestamp('2016-01-01 00:00:00')"
            ]
          },
          "metadata": {},
          "execution_count": 385
        }
      ]
    },
    {
      "cell_type": "markdown",
      "source": [
        "Sumatoria de ventas por semana"
      ],
      "metadata": {
        "id": "TVSha1YTPAqx"
      }
    },
    {
      "cell_type": "code",
      "source": [
        "suma1=0\n",
        "for n in range(0,22):\n",
        "  suma1=suma1+store_sales['sales_count'][n]\n",
        "\n",
        "suma2=0\n",
        "for o in range(22,indx2):\n",
        "  suma2=suma2+store_sales['sales_count'][o]\n",
        "\n",
        "suma3=0\n",
        "for p in range(indx2,indx3):\n",
        "  suma3=suma3+store_sales['sales_count'][p]\n",
        "\n",
        "suma4=0\n",
        "for q in range(indx3,indx4):\n",
        "  suma4=suma4+store_sales['sales_count'][q]\n"
      ],
      "metadata": {
        "id": "XT0si5QiqrZQ"
      },
      "execution_count": 386,
      "outputs": []
    },
    {
      "cell_type": "markdown",
      "source": [
        "Obtención del crecimiento porcentual"
      ],
      "metadata": {
        "id": "XzfNtv3lPDyJ"
      }
    },
    {
      "cell_type": "code",
      "source": [
        "#de semana 1 a semana 2\n",
        "crecimiento1=((suma2/suma1)-1)*100\n",
        "#de semana 2 a semana 3\n",
        "crecimiento2=((suma3/suma2)-1)*100\n",
        "#de semana 3 a semana 4\n",
        "crecimiento3=((suma4/suma3)-1)*100\n",
        "\n"
      ],
      "metadata": {
        "id": "UO-3sP5ddBhi"
      },
      "execution_count": 282,
      "outputs": []
    },
    {
      "cell_type": "code",
      "source": [
        "print('Crecimiento porcentual de la semana 1 a la semana 2:',round(crecimiento1),'%')\n",
        "print('Crecimiento porcentual de la semana 2 a la semana 3:',round(crecimiento2),'%')\n",
        "print('Crecimiento porcentual de la semana 3 a la semana 4:',round(crecimiento3),'%')"
      ],
      "metadata": {
        "colab": {
          "base_uri": "https://localhost:8080/"
        },
        "id": "_WnrzldooaO2",
        "outputId": "fe135487-30c1-4abb-9a8e-a5fe544e570d"
      },
      "execution_count": 283,
      "outputs": [
        {
          "output_type": "stream",
          "name": "stdout",
          "text": [
            "Crecimiento porcentual de la semana 1 a la semana 2: 145 %\n",
            "Crecimiento porcentual de la semana 2 a la semana 3: 58 %\n",
            "Crecimiento porcentual de la semana 3 a la semana 4: -39 %\n"
          ]
        }
      ]
    },
    {
      "cell_type": "code",
      "source": [
        "import seaborn as sb\n",
        "sb.displot(x=eje_x, color='#F2AB6D', bins=6, kde=True) #creamos el gráfico en Seaborn\n",
        "\n",
        "plt.ylabel('Frecuencia')\n",
        "plt.xlabel('Ventas')\n",
        "plt.title('Histograma ')\n",
        "\n",
        "plt.show()"
      ],
      "metadata": {
        "id": "ireyXKfBi67J"
      },
      "execution_count": null,
      "outputs": []
    },
    {
      "cell_type": "code",
      "source": [
        ""
      ],
      "metadata": {
        "id": "H8CghNpI0tOE"
      },
      "execution_count": null,
      "outputs": []
    },
    {
      "cell_type": "markdown",
      "source": [
        "# Prediccion de ventas\n"
      ],
      "metadata": {
        "id": "DlcrSmUsAw1W"
      }
    },
    {
      "cell_type": "markdown",
      "source": [
        "Para calcular el pronóstico de ventas,se utilizó suavizado exponencial en Python, donde se hace una copia del dataframe original del archivo \"store_sales\" y se borran los datos no relevantes\n"
      ],
      "metadata": {
        "id": "tQZXEMcTPg4j"
      }
    },
    {
      "cell_type": "code",
      "source": [
        "import numpy as np \n",
        "import pandas as pd \n",
        "import matplotlib\n",
        "import matplotlib.pyplot as plt\n",
        "%matplotlib inline\n",
        "plt.style.use('fivethirtyeight')\n",
        "import warnings\n",
        "warnings.filterwarnings('ignore')\n",
        "import statsmodels.api as sm\n",
        "from statsmodels.tsa.api import ExponentialSmoothing\n",
        "from statsmodels.tsa.stattools import adfuller\n",
        "from statsmodels.graphics.tsaplots import plot_acf, plot_pacf\n",
        "from statsmodels.tsa.seasonal import seasonal_decompose\n",
        "from statsmodels.tsa.statespace.sarimax import SARIMAX\n",
        "from sklearn.metrics import mean_squared_error, r2_score, mean_absolute_error, median_absolute_error, mean_squared_log_error"
      ],
      "metadata": {
        "id": "YVgXUgIf0HLd"
      },
      "execution_count": 394,
      "outputs": []
    },
    {
      "cell_type": "code",
      "source": [
        "datos= pd.DataFrame()\n",
        "datos=store_sales\n",
        "datos"
      ],
      "metadata": {
        "colab": {
          "base_uri": "https://localhost:8080/",
          "height": 424
        },
        "id": "QAdVLvEUlug-",
        "outputId": "3fe07fac-f413-4b62-957c-a1568d6ecb1a"
      },
      "execution_count": 362,
      "outputs": [
        {
          "output_type": "execute_result",
          "data": {
            "text/plain": [
              "      index                id  sales_date    sales_datetime  sales_count\n",
              "0         0  db80363d35f10926  2016-01-01  01/01/2016 01:00            5\n",
              "1         1  db80363d35f10926  2016-02-01  01/01/2016 16:00            2\n",
              "2         2  db80363d35f10926  2016-02-01  01/01/2016 15:00            4\n",
              "3         3  db80363d35f10926  2016-02-01  02/01/2016 14:00            2\n",
              "4         4  db80363d35f10926  2016-02-01  02/01/2016 02:00            3\n",
              "...     ...               ...         ...               ...          ...\n",
              "8271  12157  3cad29d1a23209d2  2017-05-27  09/02/2017 18:00            3\n",
              "8272  12158  1033310359ceeac1  2017-05-28  15/04/2017 22:00            2\n",
              "8273  12159  1033310359ceeac1  2017-05-28  18/04/2017 17:00            2\n",
              "8274  12160  1033310359ceeac1  2017-05-30  19/04/2017 17:00            8\n",
              "8275  12161  3cad29d1a23209d2  2017-05-31  22/04/2017 10:00            3\n",
              "\n",
              "[8276 rows x 5 columns]"
            ],
            "text/html": [
              "\n",
              "  <div id=\"df-035ec727-5e1b-4dcf-804b-6009a1d2cad5\">\n",
              "    <div class=\"colab-df-container\">\n",
              "      <div>\n",
              "<style scoped>\n",
              "    .dataframe tbody tr th:only-of-type {\n",
              "        vertical-align: middle;\n",
              "    }\n",
              "\n",
              "    .dataframe tbody tr th {\n",
              "        vertical-align: top;\n",
              "    }\n",
              "\n",
              "    .dataframe thead th {\n",
              "        text-align: right;\n",
              "    }\n",
              "</style>\n",
              "<table border=\"1\" class=\"dataframe\">\n",
              "  <thead>\n",
              "    <tr style=\"text-align: right;\">\n",
              "      <th></th>\n",
              "      <th>index</th>\n",
              "      <th>id</th>\n",
              "      <th>sales_date</th>\n",
              "      <th>sales_datetime</th>\n",
              "      <th>sales_count</th>\n",
              "    </tr>\n",
              "  </thead>\n",
              "  <tbody>\n",
              "    <tr>\n",
              "      <th>0</th>\n",
              "      <td>0</td>\n",
              "      <td>db80363d35f10926</td>\n",
              "      <td>2016-01-01</td>\n",
              "      <td>01/01/2016 01:00</td>\n",
              "      <td>5</td>\n",
              "    </tr>\n",
              "    <tr>\n",
              "      <th>1</th>\n",
              "      <td>1</td>\n",
              "      <td>db80363d35f10926</td>\n",
              "      <td>2016-02-01</td>\n",
              "      <td>01/01/2016 16:00</td>\n",
              "      <td>2</td>\n",
              "    </tr>\n",
              "    <tr>\n",
              "      <th>2</th>\n",
              "      <td>2</td>\n",
              "      <td>db80363d35f10926</td>\n",
              "      <td>2016-02-01</td>\n",
              "      <td>01/01/2016 15:00</td>\n",
              "      <td>4</td>\n",
              "    </tr>\n",
              "    <tr>\n",
              "      <th>3</th>\n",
              "      <td>3</td>\n",
              "      <td>db80363d35f10926</td>\n",
              "      <td>2016-02-01</td>\n",
              "      <td>02/01/2016 14:00</td>\n",
              "      <td>2</td>\n",
              "    </tr>\n",
              "    <tr>\n",
              "      <th>4</th>\n",
              "      <td>4</td>\n",
              "      <td>db80363d35f10926</td>\n",
              "      <td>2016-02-01</td>\n",
              "      <td>02/01/2016 02:00</td>\n",
              "      <td>3</td>\n",
              "    </tr>\n",
              "    <tr>\n",
              "      <th>...</th>\n",
              "      <td>...</td>\n",
              "      <td>...</td>\n",
              "      <td>...</td>\n",
              "      <td>...</td>\n",
              "      <td>...</td>\n",
              "    </tr>\n",
              "    <tr>\n",
              "      <th>8271</th>\n",
              "      <td>12157</td>\n",
              "      <td>3cad29d1a23209d2</td>\n",
              "      <td>2017-05-27</td>\n",
              "      <td>09/02/2017 18:00</td>\n",
              "      <td>3</td>\n",
              "    </tr>\n",
              "    <tr>\n",
              "      <th>8272</th>\n",
              "      <td>12158</td>\n",
              "      <td>1033310359ceeac1</td>\n",
              "      <td>2017-05-28</td>\n",
              "      <td>15/04/2017 22:00</td>\n",
              "      <td>2</td>\n",
              "    </tr>\n",
              "    <tr>\n",
              "      <th>8273</th>\n",
              "      <td>12159</td>\n",
              "      <td>1033310359ceeac1</td>\n",
              "      <td>2017-05-28</td>\n",
              "      <td>18/04/2017 17:00</td>\n",
              "      <td>2</td>\n",
              "    </tr>\n",
              "    <tr>\n",
              "      <th>8274</th>\n",
              "      <td>12160</td>\n",
              "      <td>1033310359ceeac1</td>\n",
              "      <td>2017-05-30</td>\n",
              "      <td>19/04/2017 17:00</td>\n",
              "      <td>8</td>\n",
              "    </tr>\n",
              "    <tr>\n",
              "      <th>8275</th>\n",
              "      <td>12161</td>\n",
              "      <td>3cad29d1a23209d2</td>\n",
              "      <td>2017-05-31</td>\n",
              "      <td>22/04/2017 10:00</td>\n",
              "      <td>3</td>\n",
              "    </tr>\n",
              "  </tbody>\n",
              "</table>\n",
              "<p>8276 rows × 5 columns</p>\n",
              "</div>\n",
              "      <button class=\"colab-df-convert\" onclick=\"convertToInteractive('df-035ec727-5e1b-4dcf-804b-6009a1d2cad5')\"\n",
              "              title=\"Convert this dataframe to an interactive table.\"\n",
              "              style=\"display:none;\">\n",
              "        \n",
              "  <svg xmlns=\"http://www.w3.org/2000/svg\" height=\"24px\"viewBox=\"0 0 24 24\"\n",
              "       width=\"24px\">\n",
              "    <path d=\"M0 0h24v24H0V0z\" fill=\"none\"/>\n",
              "    <path d=\"M18.56 5.44l.94 2.06.94-2.06 2.06-.94-2.06-.94-.94-2.06-.94 2.06-2.06.94zm-11 1L8.5 8.5l.94-2.06 2.06-.94-2.06-.94L8.5 2.5l-.94 2.06-2.06.94zm10 10l.94 2.06.94-2.06 2.06-.94-2.06-.94-.94-2.06-.94 2.06-2.06.94z\"/><path d=\"M17.41 7.96l-1.37-1.37c-.4-.4-.92-.59-1.43-.59-.52 0-1.04.2-1.43.59L10.3 9.45l-7.72 7.72c-.78.78-.78 2.05 0 2.83L4 21.41c.39.39.9.59 1.41.59.51 0 1.02-.2 1.41-.59l7.78-7.78 2.81-2.81c.8-.78.8-2.07 0-2.86zM5.41 20L4 18.59l7.72-7.72 1.47 1.35L5.41 20z\"/>\n",
              "  </svg>\n",
              "      </button>\n",
              "      \n",
              "  <style>\n",
              "    .colab-df-container {\n",
              "      display:flex;\n",
              "      flex-wrap:wrap;\n",
              "      gap: 12px;\n",
              "    }\n",
              "\n",
              "    .colab-df-convert {\n",
              "      background-color: #E8F0FE;\n",
              "      border: none;\n",
              "      border-radius: 50%;\n",
              "      cursor: pointer;\n",
              "      display: none;\n",
              "      fill: #1967D2;\n",
              "      height: 32px;\n",
              "      padding: 0 0 0 0;\n",
              "      width: 32px;\n",
              "    }\n",
              "\n",
              "    .colab-df-convert:hover {\n",
              "      background-color: #E2EBFA;\n",
              "      box-shadow: 0px 1px 2px rgba(60, 64, 67, 0.3), 0px 1px 3px 1px rgba(60, 64, 67, 0.15);\n",
              "      fill: #174EA6;\n",
              "    }\n",
              "\n",
              "    [theme=dark] .colab-df-convert {\n",
              "      background-color: #3B4455;\n",
              "      fill: #D2E3FC;\n",
              "    }\n",
              "\n",
              "    [theme=dark] .colab-df-convert:hover {\n",
              "      background-color: #434B5C;\n",
              "      box-shadow: 0px 1px 3px 1px rgba(0, 0, 0, 0.15);\n",
              "      filter: drop-shadow(0px 1px 2px rgba(0, 0, 0, 0.3));\n",
              "      fill: #FFFFFF;\n",
              "    }\n",
              "  </style>\n",
              "\n",
              "      <script>\n",
              "        const buttonEl =\n",
              "          document.querySelector('#df-035ec727-5e1b-4dcf-804b-6009a1d2cad5 button.colab-df-convert');\n",
              "        buttonEl.style.display =\n",
              "          google.colab.kernel.accessAllowed ? 'block' : 'none';\n",
              "\n",
              "        async function convertToInteractive(key) {\n",
              "          const element = document.querySelector('#df-035ec727-5e1b-4dcf-804b-6009a1d2cad5');\n",
              "          const dataTable =\n",
              "            await google.colab.kernel.invokeFunction('convertToInteractive',\n",
              "                                                     [key], {});\n",
              "          if (!dataTable) return;\n",
              "\n",
              "          const docLinkHtml = 'Like what you see? Visit the ' +\n",
              "            '<a target=\"_blank\" href=https://colab.research.google.com/notebooks/data_table.ipynb>data table notebook</a>'\n",
              "            + ' to learn more about interactive tables.';\n",
              "          element.innerHTML = '';\n",
              "          dataTable['output_type'] = 'display_data';\n",
              "          await google.colab.output.renderOutput(dataTable, element);\n",
              "          const docLink = document.createElement('div');\n",
              "          docLink.innerHTML = docLinkHtml;\n",
              "          element.appendChild(docLink);\n",
              "        }\n",
              "      </script>\n",
              "    </div>\n",
              "  </div>\n",
              "  "
            ]
          },
          "metadata": {},
          "execution_count": 362
        }
      ]
    },
    {
      "cell_type": "code",
      "source": [
        "datos.drop(['index', 'id','sales_datetime'], axis = 'columns', inplace=True)\n",
        "#del()\n",
        "#datos.columns"
      ],
      "metadata": {
        "id": "Z1M47oa2trNJ"
      },
      "execution_count": 365,
      "outputs": []
    },
    {
      "cell_type": "code",
      "source": [
        "datos.columns"
      ],
      "metadata": {
        "colab": {
          "base_uri": "https://localhost:8080/"
        },
        "id": "InzYGlB5uv4B",
        "outputId": "397f59e1-88ef-492d-d343-1f599da41c50"
      },
      "execution_count": 366,
      "outputs": [
        {
          "output_type": "execute_result",
          "data": {
            "text/plain": [
              "Index(['sales_date', 'sales_count'], dtype='object')"
            ]
          },
          "metadata": {},
          "execution_count": 366
        }
      ]
    },
    {
      "cell_type": "code",
      "source": [
        "ventas=datos2['sales_count']"
      ],
      "metadata": {
        "id": "8Aays5Bu1nxd"
      },
      "execution_count": 434,
      "outputs": []
    },
    {
      "cell_type": "code",
      "source": [
        "datos2=store_sales\n",
        "datos2.drop(['index', 'id','sales_datetime'], axis = 'columns', inplace=True)"
      ],
      "metadata": {
        "id": "kk1-AUVa3E6o"
      },
      "execution_count": null,
      "outputs": []
    },
    {
      "cell_type": "code",
      "source": [
        "datos2"
      ],
      "metadata": {
        "colab": {
          "base_uri": "https://localhost:8080/",
          "height": 454
        },
        "id": "guj1aGDc6qPU",
        "outputId": "b65a50ce-3272-405c-e6c4-072be55b7510"
      },
      "execution_count": 425,
      "outputs": [
        {
          "output_type": "execute_result",
          "data": {
            "text/plain": [
              "           sales_date  sales_count\n",
              "sales_date                        \n",
              "1          2016-01-01            5\n",
              "2          2016-02-01            2\n",
              "2          2016-02-01            4\n",
              "2          2016-02-01            2\n",
              "2          2016-02-01            3\n",
              "...               ...          ...\n",
              "5          2017-05-27            3\n",
              "5          2017-05-28            2\n",
              "5          2017-05-28            2\n",
              "5          2017-05-30            8\n",
              "5          2017-05-31            3\n",
              "\n",
              "[8276 rows x 2 columns]"
            ],
            "text/html": [
              "\n",
              "  <div id=\"df-501a7a04-9c5c-438b-ac6c-425c21df3c1a\">\n",
              "    <div class=\"colab-df-container\">\n",
              "      <div>\n",
              "<style scoped>\n",
              "    .dataframe tbody tr th:only-of-type {\n",
              "        vertical-align: middle;\n",
              "    }\n",
              "\n",
              "    .dataframe tbody tr th {\n",
              "        vertical-align: top;\n",
              "    }\n",
              "\n",
              "    .dataframe thead th {\n",
              "        text-align: right;\n",
              "    }\n",
              "</style>\n",
              "<table border=\"1\" class=\"dataframe\">\n",
              "  <thead>\n",
              "    <tr style=\"text-align: right;\">\n",
              "      <th></th>\n",
              "      <th>sales_date</th>\n",
              "      <th>sales_count</th>\n",
              "    </tr>\n",
              "    <tr>\n",
              "      <th>sales_date</th>\n",
              "      <th></th>\n",
              "      <th></th>\n",
              "    </tr>\n",
              "  </thead>\n",
              "  <tbody>\n",
              "    <tr>\n",
              "      <th>1</th>\n",
              "      <td>2016-01-01</td>\n",
              "      <td>5</td>\n",
              "    </tr>\n",
              "    <tr>\n",
              "      <th>2</th>\n",
              "      <td>2016-02-01</td>\n",
              "      <td>2</td>\n",
              "    </tr>\n",
              "    <tr>\n",
              "      <th>2</th>\n",
              "      <td>2016-02-01</td>\n",
              "      <td>4</td>\n",
              "    </tr>\n",
              "    <tr>\n",
              "      <th>2</th>\n",
              "      <td>2016-02-01</td>\n",
              "      <td>2</td>\n",
              "    </tr>\n",
              "    <tr>\n",
              "      <th>2</th>\n",
              "      <td>2016-02-01</td>\n",
              "      <td>3</td>\n",
              "    </tr>\n",
              "    <tr>\n",
              "      <th>...</th>\n",
              "      <td>...</td>\n",
              "      <td>...</td>\n",
              "    </tr>\n",
              "    <tr>\n",
              "      <th>5</th>\n",
              "      <td>2017-05-27</td>\n",
              "      <td>3</td>\n",
              "    </tr>\n",
              "    <tr>\n",
              "      <th>5</th>\n",
              "      <td>2017-05-28</td>\n",
              "      <td>2</td>\n",
              "    </tr>\n",
              "    <tr>\n",
              "      <th>5</th>\n",
              "      <td>2017-05-28</td>\n",
              "      <td>2</td>\n",
              "    </tr>\n",
              "    <tr>\n",
              "      <th>5</th>\n",
              "      <td>2017-05-30</td>\n",
              "      <td>8</td>\n",
              "    </tr>\n",
              "    <tr>\n",
              "      <th>5</th>\n",
              "      <td>2017-05-31</td>\n",
              "      <td>3</td>\n",
              "    </tr>\n",
              "  </tbody>\n",
              "</table>\n",
              "<p>8276 rows × 2 columns</p>\n",
              "</div>\n",
              "      <button class=\"colab-df-convert\" onclick=\"convertToInteractive('df-501a7a04-9c5c-438b-ac6c-425c21df3c1a')\"\n",
              "              title=\"Convert this dataframe to an interactive table.\"\n",
              "              style=\"display:none;\">\n",
              "        \n",
              "  <svg xmlns=\"http://www.w3.org/2000/svg\" height=\"24px\"viewBox=\"0 0 24 24\"\n",
              "       width=\"24px\">\n",
              "    <path d=\"M0 0h24v24H0V0z\" fill=\"none\"/>\n",
              "    <path d=\"M18.56 5.44l.94 2.06.94-2.06 2.06-.94-2.06-.94-.94-2.06-.94 2.06-2.06.94zm-11 1L8.5 8.5l.94-2.06 2.06-.94-2.06-.94L8.5 2.5l-.94 2.06-2.06.94zm10 10l.94 2.06.94-2.06 2.06-.94-2.06-.94-.94-2.06-.94 2.06-2.06.94z\"/><path d=\"M17.41 7.96l-1.37-1.37c-.4-.4-.92-.59-1.43-.59-.52 0-1.04.2-1.43.59L10.3 9.45l-7.72 7.72c-.78.78-.78 2.05 0 2.83L4 21.41c.39.39.9.59 1.41.59.51 0 1.02-.2 1.41-.59l7.78-7.78 2.81-2.81c.8-.78.8-2.07 0-2.86zM5.41 20L4 18.59l7.72-7.72 1.47 1.35L5.41 20z\"/>\n",
              "  </svg>\n",
              "      </button>\n",
              "      \n",
              "  <style>\n",
              "    .colab-df-container {\n",
              "      display:flex;\n",
              "      flex-wrap:wrap;\n",
              "      gap: 12px;\n",
              "    }\n",
              "\n",
              "    .colab-df-convert {\n",
              "      background-color: #E8F0FE;\n",
              "      border: none;\n",
              "      border-radius: 50%;\n",
              "      cursor: pointer;\n",
              "      display: none;\n",
              "      fill: #1967D2;\n",
              "      height: 32px;\n",
              "      padding: 0 0 0 0;\n",
              "      width: 32px;\n",
              "    }\n",
              "\n",
              "    .colab-df-convert:hover {\n",
              "      background-color: #E2EBFA;\n",
              "      box-shadow: 0px 1px 2px rgba(60, 64, 67, 0.3), 0px 1px 3px 1px rgba(60, 64, 67, 0.15);\n",
              "      fill: #174EA6;\n",
              "    }\n",
              "\n",
              "    [theme=dark] .colab-df-convert {\n",
              "      background-color: #3B4455;\n",
              "      fill: #D2E3FC;\n",
              "    }\n",
              "\n",
              "    [theme=dark] .colab-df-convert:hover {\n",
              "      background-color: #434B5C;\n",
              "      box-shadow: 0px 1px 3px 1px rgba(0, 0, 0, 0.15);\n",
              "      filter: drop-shadow(0px 1px 2px rgba(0, 0, 0, 0.3));\n",
              "      fill: #FFFFFF;\n",
              "    }\n",
              "  </style>\n",
              "\n",
              "      <script>\n",
              "        const buttonEl =\n",
              "          document.querySelector('#df-501a7a04-9c5c-438b-ac6c-425c21df3c1a button.colab-df-convert');\n",
              "        buttonEl.style.display =\n",
              "          google.colab.kernel.accessAllowed ? 'block' : 'none';\n",
              "\n",
              "        async function convertToInteractive(key) {\n",
              "          const element = document.querySelector('#df-501a7a04-9c5c-438b-ac6c-425c21df3c1a');\n",
              "          const dataTable =\n",
              "            await google.colab.kernel.invokeFunction('convertToInteractive',\n",
              "                                                     [key], {});\n",
              "          if (!dataTable) return;\n",
              "\n",
              "          const docLinkHtml = 'Like what you see? Visit the ' +\n",
              "            '<a target=\"_blank\" href=https://colab.research.google.com/notebooks/data_table.ipynb>data table notebook</a>'\n",
              "            + ' to learn more about interactive tables.';\n",
              "          element.innerHTML = '';\n",
              "          dataTable['output_type'] = 'display_data';\n",
              "          await google.colab.output.renderOutput(dataTable, element);\n",
              "          const docLink = document.createElement('div');\n",
              "          docLink.innerHTML = docLinkHtml;\n",
              "          element.appendChild(docLink);\n",
              "        }\n",
              "      </script>\n",
              "    </div>\n",
              "  </div>\n",
              "  "
            ]
          },
          "metadata": {},
          "execution_count": 425
        }
      ]
    },
    {
      "cell_type": "markdown",
      "source": [
        "Se establece como índice los valores de fechas"
      ],
      "metadata": {
        "id": "PbnYIsKxP1LH"
      }
    },
    {
      "cell_type": "code",
      "source": [
        "datos2.index = store_sales['sales_date'].dt.strftime('%Y-%m')"
      ],
      "metadata": {
        "id": "tRvPVZaQ6GFD"
      },
      "execution_count": 426,
      "outputs": []
    },
    {
      "cell_type": "code",
      "source": [
        "datos2.index = store_sales['sales_date']"
      ],
      "metadata": {
        "id": "OKX_x_U73N-I"
      },
      "execution_count": 403,
      "outputs": []
    },
    {
      "cell_type": "code",
      "source": [
        "datos2"
      ],
      "metadata": {
        "colab": {
          "base_uri": "https://localhost:8080/",
          "height": 454
        },
        "id": "zu75kkPd3HA6",
        "outputId": "6882b6a4-bb12-476f-969d-c9faf2982d84"
      },
      "execution_count": 427,
      "outputs": [
        {
          "output_type": "execute_result",
          "data": {
            "text/plain": [
              "           sales_date  sales_count\n",
              "sales_date                        \n",
              "2016-01    2016-01-01            5\n",
              "2016-02    2016-02-01            2\n",
              "2016-02    2016-02-01            4\n",
              "2016-02    2016-02-01            2\n",
              "2016-02    2016-02-01            3\n",
              "...               ...          ...\n",
              "2017-05    2017-05-27            3\n",
              "2017-05    2017-05-28            2\n",
              "2017-05    2017-05-28            2\n",
              "2017-05    2017-05-30            8\n",
              "2017-05    2017-05-31            3\n",
              "\n",
              "[8276 rows x 2 columns]"
            ],
            "text/html": [
              "\n",
              "  <div id=\"df-5edeacbd-1ffb-45ca-b253-93d79b491fe7\">\n",
              "    <div class=\"colab-df-container\">\n",
              "      <div>\n",
              "<style scoped>\n",
              "    .dataframe tbody tr th:only-of-type {\n",
              "        vertical-align: middle;\n",
              "    }\n",
              "\n",
              "    .dataframe tbody tr th {\n",
              "        vertical-align: top;\n",
              "    }\n",
              "\n",
              "    .dataframe thead th {\n",
              "        text-align: right;\n",
              "    }\n",
              "</style>\n",
              "<table border=\"1\" class=\"dataframe\">\n",
              "  <thead>\n",
              "    <tr style=\"text-align: right;\">\n",
              "      <th></th>\n",
              "      <th>sales_date</th>\n",
              "      <th>sales_count</th>\n",
              "    </tr>\n",
              "    <tr>\n",
              "      <th>sales_date</th>\n",
              "      <th></th>\n",
              "      <th></th>\n",
              "    </tr>\n",
              "  </thead>\n",
              "  <tbody>\n",
              "    <tr>\n",
              "      <th>2016-01</th>\n",
              "      <td>2016-01-01</td>\n",
              "      <td>5</td>\n",
              "    </tr>\n",
              "    <tr>\n",
              "      <th>2016-02</th>\n",
              "      <td>2016-02-01</td>\n",
              "      <td>2</td>\n",
              "    </tr>\n",
              "    <tr>\n",
              "      <th>2016-02</th>\n",
              "      <td>2016-02-01</td>\n",
              "      <td>4</td>\n",
              "    </tr>\n",
              "    <tr>\n",
              "      <th>2016-02</th>\n",
              "      <td>2016-02-01</td>\n",
              "      <td>2</td>\n",
              "    </tr>\n",
              "    <tr>\n",
              "      <th>2016-02</th>\n",
              "      <td>2016-02-01</td>\n",
              "      <td>3</td>\n",
              "    </tr>\n",
              "    <tr>\n",
              "      <th>...</th>\n",
              "      <td>...</td>\n",
              "      <td>...</td>\n",
              "    </tr>\n",
              "    <tr>\n",
              "      <th>2017-05</th>\n",
              "      <td>2017-05-27</td>\n",
              "      <td>3</td>\n",
              "    </tr>\n",
              "    <tr>\n",
              "      <th>2017-05</th>\n",
              "      <td>2017-05-28</td>\n",
              "      <td>2</td>\n",
              "    </tr>\n",
              "    <tr>\n",
              "      <th>2017-05</th>\n",
              "      <td>2017-05-28</td>\n",
              "      <td>2</td>\n",
              "    </tr>\n",
              "    <tr>\n",
              "      <th>2017-05</th>\n",
              "      <td>2017-05-30</td>\n",
              "      <td>8</td>\n",
              "    </tr>\n",
              "    <tr>\n",
              "      <th>2017-05</th>\n",
              "      <td>2017-05-31</td>\n",
              "      <td>3</td>\n",
              "    </tr>\n",
              "  </tbody>\n",
              "</table>\n",
              "<p>8276 rows × 2 columns</p>\n",
              "</div>\n",
              "      <button class=\"colab-df-convert\" onclick=\"convertToInteractive('df-5edeacbd-1ffb-45ca-b253-93d79b491fe7')\"\n",
              "              title=\"Convert this dataframe to an interactive table.\"\n",
              "              style=\"display:none;\">\n",
              "        \n",
              "  <svg xmlns=\"http://www.w3.org/2000/svg\" height=\"24px\"viewBox=\"0 0 24 24\"\n",
              "       width=\"24px\">\n",
              "    <path d=\"M0 0h24v24H0V0z\" fill=\"none\"/>\n",
              "    <path d=\"M18.56 5.44l.94 2.06.94-2.06 2.06-.94-2.06-.94-.94-2.06-.94 2.06-2.06.94zm-11 1L8.5 8.5l.94-2.06 2.06-.94-2.06-.94L8.5 2.5l-.94 2.06-2.06.94zm10 10l.94 2.06.94-2.06 2.06-.94-2.06-.94-.94-2.06-.94 2.06-2.06.94z\"/><path d=\"M17.41 7.96l-1.37-1.37c-.4-.4-.92-.59-1.43-.59-.52 0-1.04.2-1.43.59L10.3 9.45l-7.72 7.72c-.78.78-.78 2.05 0 2.83L4 21.41c.39.39.9.59 1.41.59.51 0 1.02-.2 1.41-.59l7.78-7.78 2.81-2.81c.8-.78.8-2.07 0-2.86zM5.41 20L4 18.59l7.72-7.72 1.47 1.35L5.41 20z\"/>\n",
              "  </svg>\n",
              "      </button>\n",
              "      \n",
              "  <style>\n",
              "    .colab-df-container {\n",
              "      display:flex;\n",
              "      flex-wrap:wrap;\n",
              "      gap: 12px;\n",
              "    }\n",
              "\n",
              "    .colab-df-convert {\n",
              "      background-color: #E8F0FE;\n",
              "      border: none;\n",
              "      border-radius: 50%;\n",
              "      cursor: pointer;\n",
              "      display: none;\n",
              "      fill: #1967D2;\n",
              "      height: 32px;\n",
              "      padding: 0 0 0 0;\n",
              "      width: 32px;\n",
              "    }\n",
              "\n",
              "    .colab-df-convert:hover {\n",
              "      background-color: #E2EBFA;\n",
              "      box-shadow: 0px 1px 2px rgba(60, 64, 67, 0.3), 0px 1px 3px 1px rgba(60, 64, 67, 0.15);\n",
              "      fill: #174EA6;\n",
              "    }\n",
              "\n",
              "    [theme=dark] .colab-df-convert {\n",
              "      background-color: #3B4455;\n",
              "      fill: #D2E3FC;\n",
              "    }\n",
              "\n",
              "    [theme=dark] .colab-df-convert:hover {\n",
              "      background-color: #434B5C;\n",
              "      box-shadow: 0px 1px 3px 1px rgba(0, 0, 0, 0.15);\n",
              "      filter: drop-shadow(0px 1px 2px rgba(0, 0, 0, 0.3));\n",
              "      fill: #FFFFFF;\n",
              "    }\n",
              "  </style>\n",
              "\n",
              "      <script>\n",
              "        const buttonEl =\n",
              "          document.querySelector('#df-5edeacbd-1ffb-45ca-b253-93d79b491fe7 button.colab-df-convert');\n",
              "        buttonEl.style.display =\n",
              "          google.colab.kernel.accessAllowed ? 'block' : 'none';\n",
              "\n",
              "        async function convertToInteractive(key) {\n",
              "          const element = document.querySelector('#df-5edeacbd-1ffb-45ca-b253-93d79b491fe7');\n",
              "          const dataTable =\n",
              "            await google.colab.kernel.invokeFunction('convertToInteractive',\n",
              "                                                     [key], {});\n",
              "          if (!dataTable) return;\n",
              "\n",
              "          const docLinkHtml = 'Like what you see? Visit the ' +\n",
              "            '<a target=\"_blank\" href=https://colab.research.google.com/notebooks/data_table.ipynb>data table notebook</a>'\n",
              "            + ' to learn more about interactive tables.';\n",
              "          element.innerHTML = '';\n",
              "          dataTable['output_type'] = 'display_data';\n",
              "          await google.colab.output.renderOutput(dataTable, element);\n",
              "          const docLink = document.createElement('div');\n",
              "          docLink.innerHTML = docLinkHtml;\n",
              "          element.appendChild(docLink);\n",
              "        }\n",
              "      </script>\n",
              "    </div>\n",
              "  </div>\n",
              "  "
            ]
          },
          "metadata": {},
          "execution_count": 427
        }
      ]
    },
    {
      "cell_type": "code",
      "source": [
        "decomposition = seasonal_decompose(ventas, freq=12, model='additive')\n",
        "plt.rcParams['figure.figsize'] = 12, 8\n",
        "decomposition.plot()\n",
        "plt.show()"
      ],
      "metadata": {
        "colab": {
          "base_uri": "https://localhost:8080/",
          "height": 577
        },
        "id": "nCwEKHk60yBW",
        "outputId": "c49de289-3782-4c62-d1e4-0c9ef252e5e3"
      },
      "execution_count": 435,
      "outputs": [
        {
          "output_type": "display_data",
          "data": {
            "text/plain": [
              "<Figure size 864x576 with 4 Axes>"
            ],
            "image/png": "[encoded data removed]"
          },
          "metadata": {}
        }
      ]
    },
    {
      "cell_type": "markdown",
      "source": [
        "Toma de muestras para entrenamiento y pruebas\n"
      ],
      "metadata": {
        "id": "fGezkgkAP7Cz"
      }
    },
    {
      "cell_type": "code",
      "source": [
        "train = ventas[:int(0.85*(len(ventas)))]\n",
        "test = ventas[int(0.85*(len(ventas))):]\n",
        "train.plot()\n",
        "test.plot()\n",
        "plt.title('Serie de tiempo para ventas')"
      ],
      "metadata": {
        "colab": {
          "base_uri": "https://localhost:8080/",
          "height": 576
        },
        "id": "8xoWmu_o0Hye",
        "outputId": "b542e464-d8bb-4076-b9c4-c6e37c84abdf"
      },
      "execution_count": 441,
      "outputs": [
        {
          "output_type": "execute_result",
          "data": {
            "text/plain": [
              "Text(0.5, 1.0, 'Serie de tiempo para ventas')"
            ]
          },
          "metadata": {},
          "execution_count": 441
        },
        {
          "output_type": "display_data",
          "data": {
            "text/plain": [
              "<Figure size 864x576 with 1 Axes>"
            ],
            "image/png": "[encoded data removed]"
          },
          "metadata": {}
        }
      ]
    },
    {
      "cell_type": "markdown",
      "source": [
        "Pronóstico"
      ],
      "metadata": {
        "id": "pVHG2NPIP_TE"
      }
    },
    {
      "cell_type": "code",
      "source": [
        "\n",
        "fit1 = ExponentialSmoothing(train ,seasonal_periods=12 ,trend='add', seasonal='add').fit(use_boxcox=True)\n",
        "holt_winter1 = fit1.forecast(len(test)+17)\n",
        "plt.figure(figsize=(16,8))\n",
        "plt.plot( train, label='Entrenamiento')\n",
        "plt.plot(test, label='Prueba')\n",
        "plt.plot(holt_winter1, label='Prediccion')\n",
        "plt.legend(loc='best')\n",
        "plt.title('Serie de tiempo para ventas')\n",
        "plt.show()"
      ],
      "metadata": {
        "colab": {
          "base_uri": "https://localhost:8080/",
          "height": 536
        },
        "id": "Yg3Pi92x2ByE",
        "outputId": "1498d59a-1b2f-4581-f666-c94052cc257c"
      },
      "execution_count": 442,
      "outputs": [
        {
          "output_type": "display_data",
          "data": {
            "text/plain": [
              "<Figure size 1152x576 with 1 Axes>"
            ],
            "image/png": "[encoded data removed]"
          },
          "metadata": {}
        }
      ]
    },
    {
      "cell_type": "code",
      "source": [
        ""
      ],
      "metadata": {
        "id": "IHrvKySH3bPR"
      },
      "execution_count": null,
      "outputs": []
    }
  ]
}